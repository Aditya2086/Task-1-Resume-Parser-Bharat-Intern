{
 "cells": [
  {
   "cell_type": "markdown",
   "metadata": {
    "id": "_Hi1wyHFP1P6"
   },
   "source": [
    "# **BHARAT INTERN - VIRTUAL INTERNSHIP 2023**\n",
    "\n",
    "### **CREATED BY ADITYA PRATAP SINGH CHAUHAN**"
   ]
  },
  {
   "cell_type": "markdown",
   "metadata": {
    "id": "4DDEJfRsP1ZA"
   },
   "source": [
    "# **TASK 1 :- RESUME PARSER**\n",
    "\n",
    "**Create an AI to find the correct canditdate\n",
    "for the job by using NLTK and some\n",
    "words.**"
   ]
  },
  {
   "cell_type": "code",
   "execution_count": 1,
   "metadata": {
    "id": "ZxV9NlkrPypS"
   },
   "outputs": [],
   "source": [
    "import nltk"
   ]
  },
  {
   "cell_type": "code",
   "execution_count": 2,
   "metadata": {
    "id": "573XyRnKQSCl"
   },
   "outputs": [],
   "source": [
    "def calculate_score(job_requirements, candidate_skills):\n",
    "\n",
    "    match_count = sum(1 for word in job_requirements if word in candidate_skills)\n",
    "    return match_count"
   ]
  },
  {
   "cell_type": "code",
   "execution_count": 3,
   "metadata": {
    "id": "1ywrA_H4QYcT"
   },
   "outputs": [],
   "source": [
    "def find_best_candidate(job_requirements, candidate_profiles):\n",
    "    best_candidate = None\n",
    "    best_score = 0\n",
    "\n",
    "    for candidate in candidate_profiles:\n",
    "        candidate_skills = candidate['skills']\n",
    "        candidate_experience = candidate['experience']\n",
    "        communication_skills = candidate['communication_skills']\n",
    "\n",
    "        score = calculate_score(job_requirements, candidate_skills)\n",
    "\n",
    "        # Adjust score based on experience\n",
    "        score += candidate_experience\n",
    "\n",
    "        # Adjust score based on communication skills\n",
    "        if communication_skills == 'excellent':\n",
    "            score += 2\n",
    "        elif communication_skills == 'good':\n",
    "            score += 1\n",
    "\n",
    "        # Check if the current candidate has a higher score than the previous best candidate\n",
    "        if score > best_score:\n",
    "            best_candidate = candidate\n",
    "            best_score = score\n",
    "\n",
    "    return best_candidate\n",
    "#printing best candidate for the job"
   ]
  },
  {
   "cell_type": "code",
   "execution_count": 4,
   "metadata": {
    "id": "cj1AUdoTQbSi"
   },
   "outputs": [],
   "source": [
    "def print_candidate(candidate):\n",
    "    if candidate:\n",
    "        print(\"Best Candidate For The Job :-\")\n",
    "        print(f\"Name: {candidate['name']}\")\n",
    "        print(f\"Skills: {', '.join(candidate['skills'])}\")\n",
    "        print(f\"Experience: {candidate['experience']} years\")\n",
    "        print(f\"Communication Skills: {candidate['communication_skills']}\")\n",
    "    else:\n",
    "        print(\"No Suitable Candidates Found!!.\")"
   ]
  },
  {
   "cell_type": "code",
   "execution_count": 5,
   "metadata": {
    "id": "DyuBNX_uQfLi"
   },
   "outputs": [],
   "source": [
    "def get_job_requirements():\n",
    "    job_requirements = []\n",
    "    while True:\n",
    "        requirement = input(\"Enter A Job Requirement (or 'DONE' to Finish): \")\n",
    "        if requirement.lower() == 'done':\n",
    "            break\n",
    "        job_requirements.append(requirement.lower())\n",
    "    return job_requirements"
   ]
  },
  {
   "cell_type": "code",
   "execution_count": 6,
   "metadata": {
    "id": "nTq5uCgiQifu"
   },
   "outputs": [],
   "source": [
    "def main():\n",
    "    # Get job requirements from the user\n",
    "    print(\"Enter The Job Requirements :-\")\n",
    "    job_requirements = get_job_requirements()\n",
    "\n",
    "    # Define candidate profiles\n",
    "    candidate_profiles = [\n",
    "        {\n",
    "            'name': 'Aashi Thakur',\n",
    "            'skills': ['Machine Learning', 'SQL', 'Java'],\n",
    "            'experience': 4,\n",
    "            'communication_skills': 'excellent'\n",
    "        },\n",
    "        {\n",
    "            'name': 'Akash Kushwaha',\n",
    "            'skills': ['Python', 'C++', 'Data Handling','Bigquery'],\n",
    "            'experience': 5,\n",
    "            'communication_skills': 'good'\n",
    "        },\n",
    "        {\n",
    "            'name': 'Rishi Upadhyay',\n",
    "            'skills': ['C', 'C++', 'JavaScript'],\n",
    "            'experience': 6,\n",
    "            'communication_skills': 'excellent'\n",
    "        },\n",
    "        {\n",
    "            'name': 'Adarsh Singh',\n",
    "            'skills': ['HtML', 'C', 'communication skills','C++'],\n",
    "            'experience': 7,\n",
    "            'communication_skills': 'better'\n",
    "        }\n",
    "\n",
    "    ]\n",
    "\n",
    "    # Find the best candidate\n",
    "    best_candidate = find_best_candidate(job_requirements, candidate_profiles)\n",
    "\n",
    "    # Output the best candidate\n",
    "    print_candidate(best_candidate)"
   ]
  },
  {
   "cell_type": "code",
   "execution_count": 7,
   "metadata": {
    "colab": {
     "base_uri": "https://localhost:8080/"
    },
    "id": "N3_flZHRQmTz",
    "outputId": "c8960ab3-0e2b-4954-a533-a0809041ec62"
   },
   "outputs": [
    {
     "name": "stdout",
     "output_type": "stream",
     "text": [
      "Enter The Job Requirements :-\n",
      "Enter A Job Requirement (or 'DONE' to Finish): C\n",
      "Enter A Job Requirement (or 'DONE' to Finish): C++\n",
      "Enter A Job Requirement (or 'DONE' to Finish): done\n",
      "Best Candidate For The Job :-\n",
      "Name: Rishi Upadhyay\n",
      "Skills: C, C++, JavaScript\n",
      "Experience: 6 years\n",
      "Communication Skills: excellent\n"
     ]
    }
   ],
   "source": [
    "if __name__ == \"__main__\":\n",
    "    main()"
   ]
  },
  {
   "cell_type": "code",
   "execution_count": null,
   "metadata": {},
   "outputs": [],
   "source": []
  }
 ],
 "metadata": {
  "colab": {
   "provenance": []
  },
  "kernelspec": {
   "display_name": "Python 3 (ipykernel)",
   "language": "python",
   "name": "python3"
  },
  "language_info": {
   "codemirror_mode": {
    "name": "ipython",
    "version": 3
   },
   "file_extension": ".py",
   "mimetype": "text/x-python",
   "name": "python",
   "nbconvert_exporter": "python",
   "pygments_lexer": "ipython3",
   "version": "3.11.4"
  }
 },
 "nbformat": 4,
 "nbformat_minor": 1
}
